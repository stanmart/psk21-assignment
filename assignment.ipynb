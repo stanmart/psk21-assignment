{
 "cells": [
  {
   "cell_type": "markdown",
   "metadata": {},
   "source": [
    "# PSK II. Makró blokk beadandó"
   ]
  },
  {
   "cell_type": "markdown",
   "metadata": {},
   "source": [
    "### Szabályok\n",
    "\n",
    "  - Lehet (de nem kötelező) maximum három fós csoportokban dolgozni\n",
    "  - A megoldásokat küldjétek el a martin.stancsics@gmail.com email címre a szakmai szabályzatban meghatározott határidőig"
   ]
  },
  {
   "cell_type": "markdown",
   "metadata": {},
   "source": [
    "### Instrukciók\n",
    "\n",
    "  - TODO"
   ]
  },
  {
   "cell_type": "code",
   "execution_count": 23,
   "metadata": {},
   "outputs": [],
   "source": [
    "import dolo"
   ]
  },
  {
   "cell_type": "markdown",
   "metadata": {},
   "source": [
    "## 1. feladat: Egy kalibrált RBC modell"
   ]
  },
  {
   "cell_type": "markdown",
   "metadata": {},
   "source": [
    "Választott ország: #############"
   ]
  },
  {
   "cell_type": "code",
   "execution_count": 24,
   "metadata": {},
   "outputs": [
    {
     "name": "stdout",
     "output_type": "stream",
     "text": [
      "\n",
      "        Model:\n",
      "        ------\n",
      "        name: \"None\"\n",
      "        type: \"dtcc\"\n",
      "        file: \"<string>\n",
      "\n",
      "Equations:\n",
      "----------\n",
      "\n",
      "transition\n",
      " 1  : 0.0000 : a[t] = exp((rho)*(log(a[t-1])) + eps[t])\n",
      " 2  : 0.0000 : k[t] = (1 - (delta))*(k[t-1]) + i[t-1]\n",
      "\n",
      "arbitrage\n",
      " 1  : \u001b[31m0.1462\u001b[0m : (-(1))/(c[t]) + ((beta)*(1 + r[t+1] - (delta)))*((1)/(c[t+1]))\n",
      " 2  : \u001b[31m5.2169\u001b[0m : -(w[t]) + ((phi)*(c[t]))/(1 - (l[t]))\n",
      "\n",
      "definitions\n",
      " 1  : y[t] = ((exp(a[t]))*((k[t])^(alpha)))*((l[t])^(1 - (alpha)))\n",
      " 2  : c[t] = y[t] - (i[t])\n",
      " 3  : r[t] = ((alpha)*(y[t]))/(k[t])\n",
      " 4  : w[t] = ((1 - (alpha))*(y[t]))/(l[t])\n",
      "\n",
      "\n"
     ]
    }
   ],
   "source": [
    "model_baseline = dolo.yaml_import(\"rbc_baseline.yaml\")\n",
    "print(model_baseline)"
   ]
  },
  {
   "cell_type": "markdown",
   "metadata": {},
   "source": [
    "### Steady state"
   ]
  },
  {
   "cell_type": "code",
   "execution_count": 25,
   "metadata": {},
   "outputs": [],
   "source": [
    "ss_baseline = dolo.algos.steady_state.find_steady_state(model_baseline)\n",
    "model_baseline.set_calibration(**ss_baseline.flat)"
   ]
  },
  {
   "cell_type": "markdown",
   "metadata": {},
   "source": [
    "Ellenőrizd, hogy valóban a steady-statet találtad-e meg"
   ]
  },
  {
   "cell_type": "code",
   "execution_count": 26,
   "metadata": {},
   "outputs": [
    {
     "name": "stdout",
     "output_type": "stream",
     "text": [
      "\n",
      "        Model:\n",
      "        ------\n",
      "        name: \"None\"\n",
      "        type: \"dtcc\"\n",
      "        file: \"<string>\n",
      "\n",
      "Equations:\n",
      "----------\n",
      "\n",
      "transition\n",
      " 1  : 0.0000 : a[t] = exp((rho)*(log(a[t-1])) + eps[t])\n",
      " 2  : 0.0000 : k[t] = (1 - (delta))*(k[t-1]) + i[t-1]\n",
      "\n",
      "arbitrage\n",
      " 1  : 0.0000 : (-(1))/(c[t]) + ((beta)*(1 + r[t+1] - (delta)))*((1)/(c[t+1]))\n",
      " 2  : 0.0000 : -(w[t]) + ((phi)*(c[t]))/(1 - (l[t]))\n",
      "\n",
      "definitions\n",
      " 1  : y[t] = ((exp(a[t]))*((k[t])^(alpha)))*((l[t])^(1 - (alpha)))\n",
      " 2  : c[t] = y[t] - (i[t])\n",
      " 3  : r[t] = ((alpha)*(y[t]))/(k[t])\n",
      " 4  : w[t] = ((1 - (alpha))*(y[t]))/(l[t])\n",
      "\n",
      "\n"
     ]
    }
   ],
   "source": [
    "print(model_baseline)"
   ]
  },
  {
   "cell_type": "code",
   "execution_count": 27,
   "metadata": {},
   "outputs": [
    {
     "data": {
      "text/plain": [
       "{'beta': 0.94,\n",
       " 'phi': 4.0,\n",
       " 'delta': 0.06,\n",
       " 'alpha': 0.33,\n",
       " 'rho': 0.65,\n",
       " 'l': 0.16623609157181168,\n",
       " 'a': 0.9999999999999999,\n",
       " 'r': 0.12382978723404253,\n",
       " 'k': 3.193614388771363,\n",
       " 'i': 0.19161686332628192,\n",
       " 'c': 0.2492415987079727,\n",
       " 'w': 1.7768413993019831,\n",
       " 'name': 0.0,\n",
       " 'y': 1.1983775462701163,\n",
       " 'eps': 0}"
      ]
     },
     "execution_count": 27,
     "metadata": {},
     "output_type": "execute_result"
    }
   ],
   "source": [
    "model_baseline.get_calibration()"
   ]
  },
  {
   "cell_type": "markdown",
   "metadata": {},
   "source": [
    "### Szimuláció"
   ]
  },
  {
   "cell_type": "code",
   "execution_count": 28,
   "metadata": {},
   "outputs": [],
   "source": [
    "A modell megoldása:"
   ]
  },
  {
   "cell_type": "markdown",
   "metadata": {},
   "source": [
    "dr_baseline = dolo.approximate_controls(model_baseline)"
   ]
  },
  {
   "cell_type": "markdown",
   "metadata": {},
   "source": [
    "Szimulálj 1000 időszaknyi adatot"
   ]
  },
  {
   "cell_type": "code",
   "execution_count": 29,
   "metadata": {},
   "outputs": [
    {
     "data": {
      "text/html": [
       "<div>\n",
       "<style scoped>\n",
       "    .dataframe tbody tr th:only-of-type {\n",
       "        vertical-align: middle;\n",
       "    }\n",
       "\n",
       "    .dataframe tbody tr th {\n",
       "        vertical-align: top;\n",
       "    }\n",
       "\n",
       "    .dataframe thead th {\n",
       "        text-align: right;\n",
       "    }\n",
       "</style>\n",
       "<table border=\"1\" class=\"dataframe\">\n",
       "  <thead>\n",
       "    <tr style=\"text-align: right;\">\n",
       "      <th>V</th>\n",
       "      <th>a</th>\n",
       "      <th>c</th>\n",
       "      <th>eps</th>\n",
       "      <th>i</th>\n",
       "      <th>k</th>\n",
       "      <th>l</th>\n",
       "      <th>r</th>\n",
       "      <th>w</th>\n",
       "      <th>y</th>\n",
       "    </tr>\n",
       "    <tr>\n",
       "      <th>T</th>\n",
       "      <th></th>\n",
       "      <th></th>\n",
       "      <th></th>\n",
       "      <th></th>\n",
       "      <th></th>\n",
       "      <th></th>\n",
       "      <th></th>\n",
       "      <th></th>\n",
       "      <th></th>\n",
       "    </tr>\n",
       "  </thead>\n",
       "  <tbody>\n",
       "    <tr>\n",
       "      <th>0</th>\n",
       "      <td>1.000000</td>\n",
       "      <td>1.006761</td>\n",
       "      <td>0.049671</td>\n",
       "      <td>0.191617</td>\n",
       "      <td>3.193614</td>\n",
       "      <td>0.166236</td>\n",
       "      <td>0.123830</td>\n",
       "      <td>4.829956</td>\n",
       "      <td>1.198378</td>\n",
       "    </tr>\n",
       "    <tr>\n",
       "      <th>1</th>\n",
       "      <td>1.050926</td>\n",
       "      <td>1.033922</td>\n",
       "      <td>-0.013826</td>\n",
       "      <td>0.270281</td>\n",
       "      <td>3.193614</td>\n",
       "      <td>0.174811</td>\n",
       "      <td>0.134765</td>\n",
       "      <td>4.998639</td>\n",
       "      <td>1.304203</td>\n",
       "    </tr>\n",
       "    <tr>\n",
       "      <th>2</th>\n",
       "      <td>1.018631</td>\n",
       "      <td>1.028292</td>\n",
       "      <td>0.064769</td>\n",
       "      <td>0.211649</td>\n",
       "      <td>3.272278</td>\n",
       "      <td>0.168091</td>\n",
       "      <td>0.125045</td>\n",
       "      <td>4.942332</td>\n",
       "      <td>1.239941</td>\n",
       "    </tr>\n",
       "    <tr>\n",
       "      <th>3</th>\n",
       "      <td>1.079791</td>\n",
       "      <td>1.068123</td>\n",
       "      <td>0.152303</td>\n",
       "      <td>0.304419</td>\n",
       "      <td>3.287591</td>\n",
       "      <td>0.178139</td>\n",
       "      <td>0.137772</td>\n",
       "      <td>5.162278</td>\n",
       "      <td>1.372542</td>\n",
       "    </tr>\n",
       "    <tr>\n",
       "      <th>4</th>\n",
       "      <td>1.224095</td>\n",
       "      <td>1.220299</td>\n",
       "      <td>-0.023415</td>\n",
       "      <td>0.515406</td>\n",
       "      <td>3.394754</td>\n",
       "      <td>0.200689</td>\n",
       "      <td>0.168726</td>\n",
       "      <td>5.794639</td>\n",
       "      <td>1.735705</td>\n",
       "    </tr>\n",
       "  </tbody>\n",
       "</table>\n",
       "</div>"
      ],
      "text/plain": [
       "V         a         c       eps         i         k         l         r  \\\n",
       "T                                                                         \n",
       "0  1.000000  1.006761  0.049671  0.191617  3.193614  0.166236  0.123830   \n",
       "1  1.050926  1.033922 -0.013826  0.270281  3.193614  0.174811  0.134765   \n",
       "2  1.018631  1.028292  0.064769  0.211649  3.272278  0.168091  0.125045   \n",
       "3  1.079791  1.068123  0.152303  0.304419  3.287591  0.178139  0.137772   \n",
       "4  1.224095  1.220299 -0.023415  0.515406  3.394754  0.200689  0.168726   \n",
       "\n",
       "V         w         y  \n",
       "T                      \n",
       "0  4.829956  1.198378  \n",
       "1  4.998639  1.304203  \n",
       "2  4.942332  1.239941  \n",
       "3  5.162278  1.372542  \n",
       "4  5.794639  1.735705  "
      ]
     },
     "execution_count": 29,
     "metadata": {},
     "output_type": "execute_result"
    }
   ],
   "source": [
    "sim_baseline = dolo.simulate(model_baseline, dr_baseline, N=1, T=1000).squeeze()\n",
    "sim_df_baseline = sim_baseline \\\n",
    "    .to_dataframe(name=\"value\") \\\n",
    "    .drop(columns=\"N\") \\\n",
    "    .reset_index() \\\n",
    "    .pivot(index=\"T\", columns=\"V\") \\\n",
    "    [\"value\"]\n",
    "sim_df_baseline.head()"
   ]
  },
  {
   "cell_type": "markdown",
   "metadata": {},
   "source": [
    "### Kiértékelés"
   ]
  },
  {
   "cell_type": "markdown",
   "metadata": {},
   "source": [
    "Átlaghoz viszonyított szórások:"
   ]
  },
  {
   "cell_type": "code",
   "execution_count": 30,
   "metadata": {},
   "outputs": [
    {
     "data": {
      "text/plain": [
       "V\n",
       "a       0.129257\n",
       "c       0.155670\n",
       "eps    50.652447\n",
       "i       0.919462\n",
       "k       0.199660\n",
       "l       0.119561\n",
       "r       0.218632\n",
       "w       0.152410\n",
       "y       0.242500\n",
       "dtype: float64"
      ]
     },
     "execution_count": 30,
     "metadata": {},
     "output_type": "execute_result"
    }
   ],
   "source": [
    "sim_df_baseline.std() / sim_df_baseline.mean()"
   ]
  },
  {
   "cell_type": "markdown",
   "metadata": {},
   "source": [
    "Korrelációk:"
   ]
  },
  {
   "cell_type": "code",
   "execution_count": 31,
   "metadata": {},
   "outputs": [
    {
     "data": {
      "text/html": [
       "<div>\n",
       "<style scoped>\n",
       "    .dataframe tbody tr th:only-of-type {\n",
       "        vertical-align: middle;\n",
       "    }\n",
       "\n",
       "    .dataframe tbody tr th {\n",
       "        vertical-align: top;\n",
       "    }\n",
       "\n",
       "    .dataframe thead th {\n",
       "        text-align: right;\n",
       "    }\n",
       "</style>\n",
       "<table border=\"1\" class=\"dataframe\">\n",
       "  <thead>\n",
       "    <tr style=\"text-align: right;\">\n",
       "      <th>V</th>\n",
       "      <th>a</th>\n",
       "      <th>c</th>\n",
       "      <th>eps</th>\n",
       "      <th>i</th>\n",
       "      <th>k</th>\n",
       "      <th>l</th>\n",
       "      <th>r</th>\n",
       "      <th>w</th>\n",
       "      <th>y</th>\n",
       "    </tr>\n",
       "    <tr>\n",
       "      <th>V</th>\n",
       "      <th></th>\n",
       "      <th></th>\n",
       "      <th></th>\n",
       "      <th></th>\n",
       "      <th></th>\n",
       "      <th></th>\n",
       "      <th></th>\n",
       "      <th></th>\n",
       "      <th></th>\n",
       "    </tr>\n",
       "  </thead>\n",
       "  <tbody>\n",
       "    <tr>\n",
       "      <th>a</th>\n",
       "      <td>1.000000</td>\n",
       "      <td>0.786517</td>\n",
       "      <td>-0.008362</td>\n",
       "      <td>0.931837</td>\n",
       "      <td>0.434380</td>\n",
       "      <td>0.872505</td>\n",
       "      <td>0.671563</td>\n",
       "      <td>0.848630</td>\n",
       "      <td>0.986232</td>\n",
       "    </tr>\n",
       "    <tr>\n",
       "      <th>c</th>\n",
       "      <td>0.786517</td>\n",
       "      <td>1.000000</td>\n",
       "      <td>0.000609</td>\n",
       "      <td>0.530599</td>\n",
       "      <td>0.843809</td>\n",
       "      <td>0.413840</td>\n",
       "      <td>0.132341</td>\n",
       "      <td>0.981178</td>\n",
       "      <td>0.859677</td>\n",
       "    </tr>\n",
       "    <tr>\n",
       "      <th>eps</th>\n",
       "      <td>-0.008362</td>\n",
       "      <td>0.000609</td>\n",
       "      <td>1.000000</td>\n",
       "      <td>-0.010828</td>\n",
       "      <td>0.003903</td>\n",
       "      <td>-0.011384</td>\n",
       "      <td>-0.018999</td>\n",
       "      <td>-0.001650</td>\n",
       "      <td>-0.006197</td>\n",
       "    </tr>\n",
       "    <tr>\n",
       "      <th>i</th>\n",
       "      <td>0.931837</td>\n",
       "      <td>0.530599</td>\n",
       "      <td>-0.010828</td>\n",
       "      <td>1.000000</td>\n",
       "      <td>0.077916</td>\n",
       "      <td>0.990336</td>\n",
       "      <td>0.887957</td>\n",
       "      <td>0.601435</td>\n",
       "      <td>0.889141</td>\n",
       "    </tr>\n",
       "    <tr>\n",
       "      <th>k</th>\n",
       "      <td>0.434380</td>\n",
       "      <td>0.843809</td>\n",
       "      <td>0.003903</td>\n",
       "      <td>0.077916</td>\n",
       "      <td>1.000000</td>\n",
       "      <td>-0.061102</td>\n",
       "      <td>-0.359040</td>\n",
       "      <td>0.838628</td>\n",
       "      <td>0.502531</td>\n",
       "    </tr>\n",
       "    <tr>\n",
       "      <th>l</th>\n",
       "      <td>0.872505</td>\n",
       "      <td>0.413840</td>\n",
       "      <td>-0.011384</td>\n",
       "      <td>0.990336</td>\n",
       "      <td>-0.061102</td>\n",
       "      <td>1.000000</td>\n",
       "      <td>0.938947</td>\n",
       "      <td>0.485480</td>\n",
       "      <td>0.820279</td>\n",
       "    </tr>\n",
       "    <tr>\n",
       "      <th>r</th>\n",
       "      <td>0.671563</td>\n",
       "      <td>0.132341</td>\n",
       "      <td>-0.018999</td>\n",
       "      <td>0.887957</td>\n",
       "      <td>-0.359040</td>\n",
       "      <td>0.938947</td>\n",
       "      <td>1.000000</td>\n",
       "      <td>0.195622</td>\n",
       "      <td>0.606597</td>\n",
       "    </tr>\n",
       "    <tr>\n",
       "      <th>w</th>\n",
       "      <td>0.848630</td>\n",
       "      <td>0.981178</td>\n",
       "      <td>-0.001650</td>\n",
       "      <td>0.601435</td>\n",
       "      <td>0.838628</td>\n",
       "      <td>0.485480</td>\n",
       "      <td>0.195622</td>\n",
       "      <td>1.000000</td>\n",
       "      <td>0.892206</td>\n",
       "    </tr>\n",
       "    <tr>\n",
       "      <th>y</th>\n",
       "      <td>0.986232</td>\n",
       "      <td>0.859677</td>\n",
       "      <td>-0.006197</td>\n",
       "      <td>0.889141</td>\n",
       "      <td>0.502531</td>\n",
       "      <td>0.820279</td>\n",
       "      <td>0.606597</td>\n",
       "      <td>0.892206</td>\n",
       "      <td>1.000000</td>\n",
       "    </tr>\n",
       "  </tbody>\n",
       "</table>\n",
       "</div>"
      ],
      "text/plain": [
       "V           a         c       eps         i         k         l         r  \\\n",
       "V                                                                           \n",
       "a    1.000000  0.786517 -0.008362  0.931837  0.434380  0.872505  0.671563   \n",
       "c    0.786517  1.000000  0.000609  0.530599  0.843809  0.413840  0.132341   \n",
       "eps -0.008362  0.000609  1.000000 -0.010828  0.003903 -0.011384 -0.018999   \n",
       "i    0.931837  0.530599 -0.010828  1.000000  0.077916  0.990336  0.887957   \n",
       "k    0.434380  0.843809  0.003903  0.077916  1.000000 -0.061102 -0.359040   \n",
       "l    0.872505  0.413840 -0.011384  0.990336 -0.061102  1.000000  0.938947   \n",
       "r    0.671563  0.132341 -0.018999  0.887957 -0.359040  0.938947  1.000000   \n",
       "w    0.848630  0.981178 -0.001650  0.601435  0.838628  0.485480  0.195622   \n",
       "y    0.986232  0.859677 -0.006197  0.889141  0.502531  0.820279  0.606597   \n",
       "\n",
       "V           w         y  \n",
       "V                        \n",
       "a    0.848630  0.986232  \n",
       "c    0.981178  0.859677  \n",
       "eps -0.001650 -0.006197  \n",
       "i    0.601435  0.889141  \n",
       "k    0.838628  0.502531  \n",
       "l    0.485480  0.820279  \n",
       "r    0.195622  0.606597  \n",
       "w    1.000000  0.892206  \n",
       "y    0.892206  1.000000  "
      ]
     },
     "execution_count": 31,
     "metadata": {},
     "output_type": "execute_result"
    }
   ],
   "source": [
    "sim_df_baseline.corr()"
   ]
  },
  {
   "cell_type": "markdown",
   "metadata": {},
   "source": [
    "**Kérdések:**\n",
    "\n",
    "  - Mennyire adja vissza jól a modell a megfigyelt korrelációkat?\n",
    "  - Mi a helyzet a munka szórásával?\n",
    "  - Mi a helyzet a munka prociklikusságával (munka-GDP korreláció)?\n",
    "  - Mi lehet ez utóbbinak az oka?"
   ]
  },
  {
   "cell_type": "markdown",
   "metadata": {},
   "source": [
    "## 2. feladat: Oszthatatlan munka"
   ]
  },
  {
   "source": [
    "Ötlet: a háztartás nem döntheti el, hogy hány órát dolgozik, csak azt, hogy milyen valószínűséggel.\n",
    "  - ü"
   ],
   "cell_type": "markdown",
   "metadata": {}
  },
  {
   "cell_type": "code",
   "execution_count": 32,
   "metadata": {},
   "outputs": [
    {
     "name": "stdout",
     "output_type": "stream",
     "text": [
      "\n",
      "        Model:\n",
      "        ------\n",
      "        name: \"None\"\n",
      "        type: \"dtcc\"\n",
      "        file: \"<string>\n",
      "\n",
      "Equations:\n",
      "----------\n",
      "\n",
      "transition\n",
      " 1  : 0.0000 : a[t] = exp((rho)*(log(a[t-1])) + eps[t])\n",
      " 2  : 0.0000 : k[t] = (1 - (delta))*(k[t-1]) + i[t-1]\n",
      "\n",
      "arbitrage\n",
      " 1  : \u001b[31m0.1462\u001b[0m : (-(1))/(c[t]) + ((beta)*(1 + r[t+1] - (delta)))*((1)/(c[t+1]))\n",
      " 2  : \u001b[31m5.2169\u001b[0m : -(w[t]) + ((phi)*(c[t]))/(1 - (l[t]))\n",
      "\n",
      "definitions\n",
      " 1  : y[t] = ((exp(a[t]))*((k[t])^(alpha)))*((l[t])^(1 - (alpha)))\n",
      " 2  : c[t] = y[t] - (i[t])\n",
      " 3  : r[t] = ((alpha)*(y[t]))/(k[t])\n",
      " 4  : w[t] = ((1 - (alpha))*(y[t]))/(l[t])\n",
      "\n",
      "\n"
     ]
    }
   ],
   "source": [
    "model_alternative = dolo.yaml_import(\"rbc_indivisible_labor.yaml\")\n",
    "print(model_alternative)"
   ]
  },
  {
   "cell_type": "markdown",
   "metadata": {},
   "source": [
    "### Steady state"
   ]
  },
  {
   "cell_type": "code",
   "execution_count": 25,
   "metadata": {},
   "outputs": [],
   "source": [
    "ss_alternative = dolo.algos.steady_state.find_steady_state(model_alternative)\r\n",
    "model_alternative.set_calibration(**ss_alternative.flat)"
   ]
  },
  {
   "cell_type": "markdown",
   "metadata": {},
   "source": [
    "Ellenőrizd, hogy valóban a steady-statet találtad-e meg"
   ]
  },
  {
   "cell_type": "code",
   "execution_count": 26,
   "metadata": {},
   "outputs": [
    {
     "name": "stdout",
     "output_type": "stream",
     "text": [
      "\n",
      "        Model:\n",
      "        ------\n",
      "        name: \"None\"\n",
      "        type: \"dtcc\"\n",
      "        file: \"<string>\n",
      "\n",
      "Equations:\n",
      "----------\n",
      "\n",
      "transition\n",
      " 1  : 0.0000 : a[t] = exp((rho)*(log(a[t-1])) + eps[t])\n",
      " 2  : 0.0000 : k[t] = (1 - (delta))*(k[t-1]) + i[t-1]\n",
      "\n",
      "arbitrage\n",
      " 1  : 0.0000 : (-(1))/(c[t]) + ((beta)*(1 + r[t+1] - (delta)))*((1)/(c[t+1]))\n",
      " 2  : 0.0000 : -(w[t]) + ((phi)*(c[t]))/(1 - (l[t]))\n",
      "\n",
      "definitions\n",
      " 1  : y[t] = ((exp(a[t]))*((k[t])^(alpha)))*((l[t])^(1 - (alpha)))\n",
      " 2  : c[t] = y[t] - (i[t])\n",
      " 3  : r[t] = ((alpha)*(y[t]))/(k[t])\n",
      " 4  : w[t] = ((1 - (alpha))*(y[t]))/(l[t])\n",
      "\n",
      "\n"
     ]
    }
   ],
   "source": [
    "print(model_alternative)"
   ]
  },
  {
   "cell_type": "code",
   "execution_count": 27,
   "metadata": {},
   "outputs": [
    {
     "data": {
      "text/plain": [
       "{'beta': 0.94,\n",
       " 'phi': 4.0,\n",
       " 'delta': 0.06,\n",
       " 'alpha': 0.33,\n",
       " 'rho': 0.65,\n",
       " 'l': 0.16623609157181168,\n",
       " 'a': 0.9999999999999999,\n",
       " 'r': 0.12382978723404253,\n",
       " 'k': 3.193614388771363,\n",
       " 'i': 0.19161686332628192,\n",
       " 'c': 0.2492415987079727,\n",
       " 'w': 1.7768413993019831,\n",
       " 'name': 0.0,\n",
       " 'y': 1.1983775462701163,\n",
       " 'eps': 0}"
      ]
     },
     "execution_count": 27,
     "metadata": {},
     "output_type": "execute_result"
    }
   ],
   "source": [
    "model_alternative.get_calibration()"
   ]
  },
  {
   "cell_type": "markdown",
   "metadata": {},
   "source": [
    "### Szimuláció"
   ]
  },
  {
   "source": [
    "A modell megoldása:"
   ],
   "cell_type": "markdown",
   "metadata": {}
  },
  {
   "source": [
    "dr_alternative = dolo.approximate_controls(model_alternative)"
   ],
   "cell_type": "code",
   "metadata": {},
   "execution_count": null,
   "outputs": []
  },
  {
   "cell_type": "markdown",
   "metadata": {},
   "source": [
    "Szimulálj 1000 időszaknyi adatot"
   ]
  },
  {
   "cell_type": "code",
   "execution_count": 29,
   "metadata": {},
   "outputs": [
    {
     "data": {
      "text/html": [
       "<div>\n",
       "<style scoped>\n",
       "    .dataframe tbody tr th:only-of-type {\n",
       "        vertical-align: middle;\n",
       "    }\n",
       "\n",
       "    .dataframe tbody tr th {\n",
       "        vertical-align: top;\n",
       "    }\n",
       "\n",
       "    .dataframe thead th {\n",
       "        text-align: right;\n",
       "    }\n",
       "</style>\n",
       "<table border=\"1\" class=\"dataframe\">\n",
       "  <thead>\n",
       "    <tr style=\"text-align: right;\">\n",
       "      <th>V</th>\n",
       "      <th>a</th>\n",
       "      <th>c</th>\n",
       "      <th>eps</th>\n",
       "      <th>i</th>\n",
       "      <th>k</th>\n",
       "      <th>l</th>\n",
       "      <th>r</th>\n",
       "      <th>w</th>\n",
       "      <th>y</th>\n",
       "    </tr>\n",
       "    <tr>\n",
       "      <th>T</th>\n",
       "      <th></th>\n",
       "      <th></th>\n",
       "      <th></th>\n",
       "      <th></th>\n",
       "      <th></th>\n",
       "      <th></th>\n",
       "      <th></th>\n",
       "      <th></th>\n",
       "      <th></th>\n",
       "    </tr>\n",
       "  </thead>\n",
       "  <tbody>\n",
       "    <tr>\n",
       "      <th>0</th>\n",
       "      <td>1.000000</td>\n",
       "      <td>1.006761</td>\n",
       "      <td>0.049671</td>\n",
       "      <td>0.191617</td>\n",
       "      <td>3.193614</td>\n",
       "      <td>0.166236</td>\n",
       "      <td>0.123830</td>\n",
       "      <td>4.829956</td>\n",
       "      <td>1.198378</td>\n",
       "    </tr>\n",
       "    <tr>\n",
       "      <th>1</th>\n",
       "      <td>1.050926</td>\n",
       "      <td>1.033922</td>\n",
       "      <td>-0.013826</td>\n",
       "      <td>0.270281</td>\n",
       "      <td>3.193614</td>\n",
       "      <td>0.174811</td>\n",
       "      <td>0.134765</td>\n",
       "      <td>4.998639</td>\n",
       "      <td>1.304203</td>\n",
       "    </tr>\n",
       "    <tr>\n",
       "      <th>2</th>\n",
       "      <td>1.018631</td>\n",
       "      <td>1.028292</td>\n",
       "      <td>0.064769</td>\n",
       "      <td>0.211649</td>\n",
       "      <td>3.272278</td>\n",
       "      <td>0.168091</td>\n",
       "      <td>0.125045</td>\n",
       "      <td>4.942332</td>\n",
       "      <td>1.239941</td>\n",
       "    </tr>\n",
       "    <tr>\n",
       "      <th>3</th>\n",
       "      <td>1.079791</td>\n",
       "      <td>1.068123</td>\n",
       "      <td>0.152303</td>\n",
       "      <td>0.304419</td>\n",
       "      <td>3.287591</td>\n",
       "      <td>0.178139</td>\n",
       "      <td>0.137772</td>\n",
       "      <td>5.162278</td>\n",
       "      <td>1.372542</td>\n",
       "    </tr>\n",
       "    <tr>\n",
       "      <th>4</th>\n",
       "      <td>1.224095</td>\n",
       "      <td>1.220299</td>\n",
       "      <td>-0.023415</td>\n",
       "      <td>0.515406</td>\n",
       "      <td>3.394754</td>\n",
       "      <td>0.200689</td>\n",
       "      <td>0.168726</td>\n",
       "      <td>5.794639</td>\n",
       "      <td>1.735705</td>\n",
       "    </tr>\n",
       "  </tbody>\n",
       "</table>\n",
       "</div>"
      ],
      "text/plain": [
       "V         a         c       eps         i         k         l         r  \\\n",
       "T                                                                         \n",
       "0  1.000000  1.006761  0.049671  0.191617  3.193614  0.166236  0.123830   \n",
       "1  1.050926  1.033922 -0.013826  0.270281  3.193614  0.174811  0.134765   \n",
       "2  1.018631  1.028292  0.064769  0.211649  3.272278  0.168091  0.125045   \n",
       "3  1.079791  1.068123  0.152303  0.304419  3.287591  0.178139  0.137772   \n",
       "4  1.224095  1.220299 -0.023415  0.515406  3.394754  0.200689  0.168726   \n",
       "\n",
       "V         w         y  \n",
       "T                      \n",
       "0  4.829956  1.198378  \n",
       "1  4.998639  1.304203  \n",
       "2  4.942332  1.239941  \n",
       "3  5.162278  1.372542  \n",
       "4  5.794639  1.735705  "
      ]
     },
     "execution_count": 29,
     "metadata": {},
     "output_type": "execute_result"
    }
   ],
   "source": [
    "sim_alternative = dolo.simulate(model_alternative, dr_alternative, N=1, T=1000).squeeze()\n",
    "sim_df_alternative = sim_alternative \\\n",
    "    .to_dataframe(name=\"value\") \\\n",
    "    .drop(columns=\"N\") \\\n",
    "    .reset_index() \\\n",
    "    .pivot(index=\"T\", columns=\"V\") \\\n",
    "    [\"value\"]\n",
    "sim_df_alternative.head()"
   ]
  },
  {
   "cell_type": "markdown",
   "metadata": {},
   "source": [
    "### Kiértékelés"
   ]
  },
  {
   "cell_type": "markdown",
   "metadata": {},
   "source": [
    "Átlaghoz viszonyított szórások:"
   ]
  },
  {
   "cell_type": "code",
   "execution_count": 30,
   "metadata": {},
   "outputs": [
    {
     "data": {
      "text/plain": [
       "V\n",
       "a       0.129257\n",
       "c       0.155670\n",
       "eps    50.652447\n",
       "i       0.919462\n",
       "k       0.199660\n",
       "l       0.119561\n",
       "r       0.218632\n",
       "w       0.152410\n",
       "y       0.242500\n",
       "dtype: float64"
      ]
     },
     "execution_count": 30,
     "metadata": {},
     "output_type": "execute_result"
    }
   ],
   "source": [
    "sim_df_alternative.std() / sim_df_alternative.mean()"
   ]
  },
  {
   "cell_type": "markdown",
   "metadata": {},
   "source": [
    "Korrelációk:"
   ]
  },
  {
   "cell_type": "code",
   "execution_count": 31,
   "metadata": {},
   "outputs": [
    {
     "data": {
      "text/html": [
       "<div>\n",
       "<style scoped>\n",
       "    .dataframe tbody tr th:only-of-type {\n",
       "        vertical-align: middle;\n",
       "    }\n",
       "\n",
       "    .dataframe tbody tr th {\n",
       "        vertical-align: top;\n",
       "    }\n",
       "\n",
       "    .dataframe thead th {\n",
       "        text-align: right;\n",
       "    }\n",
       "</style>\n",
       "<table border=\"1\" class=\"dataframe\">\n",
       "  <thead>\n",
       "    <tr style=\"text-align: right;\">\n",
       "      <th>V</th>\n",
       "      <th>a</th>\n",
       "      <th>c</th>\n",
       "      <th>eps</th>\n",
       "      <th>i</th>\n",
       "      <th>k</th>\n",
       "      <th>l</th>\n",
       "      <th>r</th>\n",
       "      <th>w</th>\n",
       "      <th>y</th>\n",
       "    </tr>\n",
       "    <tr>\n",
       "      <th>V</th>\n",
       "      <th></th>\n",
       "      <th></th>\n",
       "      <th></th>\n",
       "      <th></th>\n",
       "      <th></th>\n",
       "      <th></th>\n",
       "      <th></th>\n",
       "      <th></th>\n",
       "      <th></th>\n",
       "    </tr>\n",
       "  </thead>\n",
       "  <tbody>\n",
       "    <tr>\n",
       "      <th>a</th>\n",
       "      <td>1.000000</td>\n",
       "      <td>0.786517</td>\n",
       "      <td>-0.008362</td>\n",
       "      <td>0.931837</td>\n",
       "      <td>0.434380</td>\n",
       "      <td>0.872505</td>\n",
       "      <td>0.671563</td>\n",
       "      <td>0.848630</td>\n",
       "      <td>0.986232</td>\n",
       "    </tr>\n",
       "    <tr>\n",
       "      <th>c</th>\n",
       "      <td>0.786517</td>\n",
       "      <td>1.000000</td>\n",
       "      <td>0.000609</td>\n",
       "      <td>0.530599</td>\n",
       "      <td>0.843809</td>\n",
       "      <td>0.413840</td>\n",
       "      <td>0.132341</td>\n",
       "      <td>0.981178</td>\n",
       "      <td>0.859677</td>\n",
       "    </tr>\n",
       "    <tr>\n",
       "      <th>eps</th>\n",
       "      <td>-0.008362</td>\n",
       "      <td>0.000609</td>\n",
       "      <td>1.000000</td>\n",
       "      <td>-0.010828</td>\n",
       "      <td>0.003903</td>\n",
       "      <td>-0.011384</td>\n",
       "      <td>-0.018999</td>\n",
       "      <td>-0.001650</td>\n",
       "      <td>-0.006197</td>\n",
       "    </tr>\n",
       "    <tr>\n",
       "      <th>i</th>\n",
       "      <td>0.931837</td>\n",
       "      <td>0.530599</td>\n",
       "      <td>-0.010828</td>\n",
       "      <td>1.000000</td>\n",
       "      <td>0.077916</td>\n",
       "      <td>0.990336</td>\n",
       "      <td>0.887957</td>\n",
       "      <td>0.601435</td>\n",
       "      <td>0.889141</td>\n",
       "    </tr>\n",
       "    <tr>\n",
       "      <th>k</th>\n",
       "      <td>0.434380</td>\n",
       "      <td>0.843809</td>\n",
       "      <td>0.003903</td>\n",
       "      <td>0.077916</td>\n",
       "      <td>1.000000</td>\n",
       "      <td>-0.061102</td>\n",
       "      <td>-0.359040</td>\n",
       "      <td>0.838628</td>\n",
       "      <td>0.502531</td>\n",
       "    </tr>\n",
       "    <tr>\n",
       "      <th>l</th>\n",
       "      <td>0.872505</td>\n",
       "      <td>0.413840</td>\n",
       "      <td>-0.011384</td>\n",
       "      <td>0.990336</td>\n",
       "      <td>-0.061102</td>\n",
       "      <td>1.000000</td>\n",
       "      <td>0.938947</td>\n",
       "      <td>0.485480</td>\n",
       "      <td>0.820279</td>\n",
       "    </tr>\n",
       "    <tr>\n",
       "      <th>r</th>\n",
       "      <td>0.671563</td>\n",
       "      <td>0.132341</td>\n",
       "      <td>-0.018999</td>\n",
       "      <td>0.887957</td>\n",
       "      <td>-0.359040</td>\n",
       "      <td>0.938947</td>\n",
       "      <td>1.000000</td>\n",
       "      <td>0.195622</td>\n",
       "      <td>0.606597</td>\n",
       "    </tr>\n",
       "    <tr>\n",
       "      <th>w</th>\n",
       "      <td>0.848630</td>\n",
       "      <td>0.981178</td>\n",
       "      <td>-0.001650</td>\n",
       "      <td>0.601435</td>\n",
       "      <td>0.838628</td>\n",
       "      <td>0.485480</td>\n",
       "      <td>0.195622</td>\n",
       "      <td>1.000000</td>\n",
       "      <td>0.892206</td>\n",
       "    </tr>\n",
       "    <tr>\n",
       "      <th>y</th>\n",
       "      <td>0.986232</td>\n",
       "      <td>0.859677</td>\n",
       "      <td>-0.006197</td>\n",
       "      <td>0.889141</td>\n",
       "      <td>0.502531</td>\n",
       "      <td>0.820279</td>\n",
       "      <td>0.606597</td>\n",
       "      <td>0.892206</td>\n",
       "      <td>1.000000</td>\n",
       "    </tr>\n",
       "  </tbody>\n",
       "</table>\n",
       "</div>"
      ],
      "text/plain": [
       "V           a         c       eps         i         k         l         r  \\\n",
       "V                                                                           \n",
       "a    1.000000  0.786517 -0.008362  0.931837  0.434380  0.872505  0.671563   \n",
       "c    0.786517  1.000000  0.000609  0.530599  0.843809  0.413840  0.132341   \n",
       "eps -0.008362  0.000609  1.000000 -0.010828  0.003903 -0.011384 -0.018999   \n",
       "i    0.931837  0.530599 -0.010828  1.000000  0.077916  0.990336  0.887957   \n",
       "k    0.434380  0.843809  0.003903  0.077916  1.000000 -0.061102 -0.359040   \n",
       "l    0.872505  0.413840 -0.011384  0.990336 -0.061102  1.000000  0.938947   \n",
       "r    0.671563  0.132341 -0.018999  0.887957 -0.359040  0.938947  1.000000   \n",
       "w    0.848630  0.981178 -0.001650  0.601435  0.838628  0.485480  0.195622   \n",
       "y    0.986232  0.859677 -0.006197  0.889141  0.502531  0.820279  0.606597   \n",
       "\n",
       "V           w         y  \n",
       "V                        \n",
       "a    0.848630  0.986232  \n",
       "c    0.981178  0.859677  \n",
       "eps -0.001650 -0.006197  \n",
       "i    0.601435  0.889141  \n",
       "k    0.838628  0.502531  \n",
       "l    0.485480  0.820279  \n",
       "r    0.195622  0.606597  \n",
       "w    1.000000  0.892206  \n",
       "y    0.892206  1.000000  "
      ]
     },
     "execution_count": 31,
     "metadata": {},
     "output_type": "execute_result"
    }
   ],
   "source": [
    "sim_df_alternative.corr()"
   ]
  },
  {
   "cell_type": "markdown",
   "metadata": {},
   "source": [
    "**Kérdések:**\n",
    "\n",
    "  - Mi változott?\n",
    "  - Mi a helyzet a munka szórásával?\n",
    "  - Mi a helyzet a munka prociklikusságával (munka-GDP korreláció)?"
   ]
  }
 ],
 "metadata": {
  "kernelspec": {
   "display_name": "Python [conda env:dolo]",
   "language": "python",
   "name": "conda-env-dolo-py"
  },
  "language_info": {
   "codemirror_mode": {
    "name": "ipython",
    "version": 3
   },
   "file_extension": ".py",
   "mimetype": "text/x-python",
   "name": "python",
   "nbconvert_exporter": "python",
   "pygments_lexer": "ipython3",
   "version": "3.8.8"
  }
 },
 "nbformat": 4,
 "nbformat_minor": 4
}