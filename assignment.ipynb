{
 "cells": [
  {
   "cell_type": "markdown",
   "metadata": {},
   "source": [
    "# PSK II. Makró blokk beadandó"
   ]
  },
  {
   "cell_type": "markdown",
   "metadata": {},
   "source": [
    "### Instrukciók\n",
    "\n",
    "  - Kövesd a lenti utasításokat\n",
    "  - Ha végigértél a feladatokon, exportáld és mentsd le a notebookot HTML és ipynb formátumban (File $\\to$ Download as: $\\to$ HTML (.html) / Notebook (.ipynb))\n",
    "  - Ha több részletben szeretnéd megoldani a feladatot, el tudod a böngésződbe a notebook aktuális állapotát a felhő alakú gombbal, a modelleket leíró fájlokat azonban külön kell letölteni\n",
    "  - A beküldött megoldásnak hét fájlból kell állnia:\n",
    "    - Válaszok a feltett kérdésekre doc/txt/pdf dokumentumban\n",
    "    - A letöltött idősorok és a filterezett ciklikus komponensek csv/xlsx formátumban\n",
    "    - Oszthatatlan munkával kibővített RBC modell viselkedési egyenleteinek levezetése (kézzel írva vagy gépelve)\n",
    "    - Lefuttatott notebook HTML formátumban\n",
    "    - Lefuttatott notebook ipynb formátumban\n",
    "    - Módosított `rbc_baseline.yaml` fájl\n",
    "    - Módosított `rbc_indivisible labor.yaml` fájl\n",
    "  - Don't panic! Hosszúnak tűnik a notebook, de ez csak azt jelenti, hogy a munka nagy részét már megcsináltam neked :)\n",
    "\n",
    "Jó munkát!"
   ]
  },
  {
   "cell_type": "markdown",
   "metadata": {},
   "source": [
    "### Szabályok\n",
    "\n",
    "  - Lehet (de nem kötelező) maximum három fős csoportokban dolgozni\n",
    "  - A megoldásokat küldjétek el a martin.stancsics@gmail.com email címre a szakmai szabályzatban meghatározott határidőig\n",
    "  - Bármilyen kérdést szintén bátran küldjetek a fenti email címre. Érdemes cc-zni a teljes évfolyamot, mert mást is érdekelhet a válasz"
   ]
  },
  {
   "source": [
    "## 1. feladat: Adatok"
   ],
   "cell_type": "markdown",
   "metadata": {}
  },
  {
   "source": [
    "  - Válassz egy szimpatikus országot (amihez rendelkezésre állnak hosszú idősorok), és töltsd le a következő adatokat (figyelj rá, hogy minden flow változó ugyanolyan frekvenciájú legyen):\n",
    "    - Reál GDP\n",
    "    - Reál fogyasztás\n",
    "    - Reál beruházás\n",
    "    - Reál tőkeállomány\n",
    "    - Reál bérek\n",
    "    - Ledolgozott órák száma\n",
    "    - Munka részesedése a GDP-ből\n",
    "  - Bontsd fel a fenti idősorok *logaritmusát* trendre és ciklikus komponensre Hodrick-Prescott (HP) filter segítségével\n",
    "    - Ha lehetőséged van statisztikai szoftvert használni, szuper\n",
    "    - Ha nem, a következő weboldal ugyanolyan jó: https://dge.repec.org/cgi-bin/hpfilter.cgi\n",
    "    - A lambda paraméter értéke éves adatok esetén legyen 100, negyedéves adatok esetén pedig 1600"
   ],
   "cell_type": "markdown",
   "metadata": {}
  },
  {
   "cell_type": "markdown",
   "metadata": {},
   "source": [
    "## 2. feladat: Egy kalibrált RBC modell"
   ]
  },
  {
   "source": [
    "**Feladat**:\n",
    "  - Számold ki a korábban letöltött, idősorok átlagait\n",
    "  - Az RBC modellt a következő módon tudod kalibrálni:\n",
    "    - $\\alpha = 1 - \\frac{wL}{Y} = 1 - $(munka részesedése a GDP-ből)\n",
    "    - $\\delta = I/K$\n",
    "    - $\\beta = \\left( \\alpha \\frac{Y}{K} + 1 - \\delta \\right) ^ {-1}$\n",
    "    - $\\rho = \\begin{cases} 0.95 \\quad\\text{negyedéves adatok esetén} \\\\ 0.8 \\quad\\text{éves adatok esetén} \\end{cases}$\n",
    "  - Helyettesítsd be a fenti értékeket az `rbc_baseline.yml` fájl megfelelő részére\n",
    "\n",
    "Ha végeztél, futtasd le a következő cellákat és válaszolj a feltett kérdésekre!\n",
    "  "
   ],
   "cell_type": "markdown",
   "metadata": {}
  },
  {
   "cell_type": "code",
   "execution_count": null,
   "metadata": {},
   "outputs": [],
   "source": [
    "import dolo\n",
    "model_baseline = dolo.yaml_import(\"rbc_baseline.yaml\")\n",
    "print(model_baseline)"
   ]
  },
  {
   "cell_type": "markdown",
   "metadata": {},
   "source": [
    "### Steady state"
   ]
  },
  {
   "cell_type": "code",
   "execution_count": null,
   "metadata": {},
   "outputs": [],
   "source": [
    "model_baseline.get_calibration()"
   ]
  },
  {
   "cell_type": "markdown",
   "metadata": {},
   "source": [
    "### Szimuláció"
   ]
  },
  {
   "cell_type": "markdown",
   "metadata": {},
   "source": [
    "Oldd meg a modellt és szimulálj 5000 időszaknyi adatot"
   ]
  },
  {
   "cell_type": "code",
   "execution_count": null,
   "metadata": {},
   "outputs": [],
   "source": [
    "dr_baseline = dolo.approximate_controls(model_baseline)\n",
    "sim_baseline = dolo.simulate(model_baseline, dr_baseline, N=1, T=5000).squeeze()\n",
    "sim_df_baseline = sim_baseline \\\n",
    "    .to_dataframe(name=\"value\") \\\n",
    "    .drop(columns=\"N\") \\\n",
    "    .reset_index() \\\n",
    "    .pivot(index=\"T\", columns=\"V\") \\\n",
    "    [\"value\"]\n",
    "sim_df_baseline.head(50).plot()"
   ]
  },
  {
   "cell_type": "markdown",
   "metadata": {},
   "source": [
    "### Kiértékelés"
   ]
  },
  {
   "cell_type": "markdown",
   "metadata": {},
   "source": [
    "Relatv volatilitások:"
   ]
  },
  {
   "cell_type": "code",
   "execution_count": null,
   "metadata": {},
   "outputs": [],
   "source": [
    "from numpy import log\n",
    "vars = [\"y\", \"c\", \"i\", \"k\", \"l\", \"r\", \"w\"]"
   ]
  },
  {
   "source": [
    "std_baseline = log(sim_df_baseline[vars]).std()\n",
    "(std_baseline / std_baseline[\"y\"]).to_frame(name=\"Relative standard deviation\")"
   ],
   "cell_type": "code",
   "metadata": {},
   "execution_count": null,
   "outputs": []
  },
  {
   "cell_type": "markdown",
   "metadata": {},
   "source": [
    "Korrelációk:"
   ]
  },
  {
   "cell_type": "code",
   "execution_count": null,
   "metadata": {},
   "outputs": [],
   "source": [
    "log(sim_df_baseline[vars]).corr()"
   ]
  },
  {
   "cell_type": "markdown",
   "metadata": {},
   "source": [
    "**Feladat:** Számold ki a letöltött idősorok hasonló statisztikáit\n",
    "  - Volatilitás: a korábban lementett (log) ciklikus komponensek szórása\n",
    "  - Relatív volatilitás: volatilitás osztva a GDP volatilitásával\n",
    "  - Korrelációk: a korábban lementett (log) ciklikus komponensek közötti korrelációk\n",
    "\n",
    "**Kérdések:**\n",
    "\n",
    "  - Mennyire adja vissza jól a modell a megfigyelt korrelációkat?\n",
    "  - Mi a helyzet a munka szórásával?\n",
    "  - Mi a helyzet a bérek prociklikusságával?"
   ]
  },
  {
   "cell_type": "markdown",
   "metadata": {},
   "source": [
    "## 3. feladat: Oszthatatlan munka"
   ]
  },
  {
   "source": [
    "Ötlet: a háztartás nem döntheti el, hogy hány órát dolgozik, csak azt, hogy milyen valószínűséggel dolgozik nyolc órát. A háztartás várható hasznosságot maximalizál, ezért a hasznosságfüggvény gyakorlatilag lineáris lesz a munkára nézve:\n",
    "\n",
    "$$ u(c_t, \\ell_t) = \\log(c_t) - \\phi \\ell_t $$\n",
    "\n",
    "Más nem változik az eredeti modellhez képest.\n",
    "\n",
    "**Feladat:** vezesd le az így módosított RBC modell viselkedési egyenleteit\n",
    "  - Oldd meg a háztartás hasznosságmaximalizálási problémáját\n",
    "  - Vezesd le a háztartás két (intratemporális és intertemporális) viselkedési egyenletét - mi változik?\n",
    "  - Oldd meg a vállalat profitmaximalizálási feladatát (változik bármi?)\n",
    "  - Használd ki, hogy egyensúlyban a munka -és tőkekereslet megegyezik a kínálatukkal. Ez alapján írd fel az RBC modell fő 5+1 egyenletét (mi változik?)\n",
    "  - Módosítsd az `rbc_indivisible_labor.yaml` fájlt a megváltozott egyenleteknek megfelelően\n",
    "\n",
    "Ha végeztél, a korábbiakhoz hasonlóan futtasd le a következő cellákat és válaszolj a feltett kérdésekre!"
   ],
   "cell_type": "markdown",
   "metadata": {}
  },
  {
   "cell_type": "code",
   "execution_count": null,
   "metadata": {},
   "outputs": [],
   "source": [
    "import dolo\n",
    "model_alternative = dolo.yaml_import(\"rbc_indivisible_labor.yaml\")\n",
    "print(model_alternative)"
   ]
  },
  {
   "source": [
    "Tipp: ha jól vezetted le a viselkedési egyenleteket, a fenti egyenletek teljesülnek steady-stateben és a kettőspontok bal oldalán nullák vannak."
   ],
   "cell_type": "markdown",
   "metadata": {}
  },
  {
   "cell_type": "markdown",
   "metadata": {},
   "source": [
    "### Steady state"
   ]
  },
  {
   "cell_type": "code",
   "execution_count": null,
   "metadata": {},
   "outputs": [],
   "source": [
    "model_alternative.get_calibration()"
   ]
  },
  {
   "cell_type": "markdown",
   "metadata": {},
   "source": [
    "### Szimuláció"
   ]
  },
  {
   "cell_type": "markdown",
   "metadata": {},
   "source": [
    "Oldd meg a modellt és szimulálj 1000 időszaknyi adatot"
   ]
  },
  {
   "cell_type": "code",
   "execution_count": null,
   "metadata": {},
   "outputs": [],
   "source": [
    "dr_alternative = dolo.approximate_controls(model_alternative)\n",
    "sim_alternative = dolo.simulate(model_alternative, dr_alternative, N=1, T=1000).squeeze()\n",
    "sim_df_alternative = sim_alternative \\\n",
    "    .to_dataframe(name=\"value\") \\\n",
    "    .drop(columns=\"N\") \\\n",
    "    .reset_index() \\\n",
    "    .pivot(index=\"T\", columns=\"V\") \\\n",
    "    [\"value\"]\n",
    "sim_df_alternative.head(50).plot()"
   ]
  },
  {
   "cell_type": "markdown",
   "metadata": {},
   "source": [
    "### Kiértékelés"
   ]
  },
  {
   "cell_type": "markdown",
   "metadata": {},
   "source": [
    "Relatív volatilitások"
   ]
  },
  {
   "cell_type": "code",
   "execution_count": null,
   "metadata": {},
   "outputs": [],
   "source": [
    "from numpy import log\n",
    "vars = [\"y\", \"c\", \"i\", \"k\", \"l\", \"r\", \"w\"]"
   ]
  },
  {
   "cell_type": "code",
   "execution_count": null,
   "metadata": {},
   "outputs": [],
   "source": [
    "std_alternative = log(sim_df_alternative[vars].std())\n",
    "(std_alternative / std_alternative[\"y\"]).to_frame(name=\"Relative standard deviation\")"
   ]
  },
  {
   "cell_type": "markdown",
   "metadata": {},
   "source": [
    "Korrelációk:"
   ]
  },
  {
   "cell_type": "code",
   "execution_count": null,
   "metadata": {},
   "outputs": [],
   "source": [
    "log(sim_df_alternative[vars]).corr()"
   ]
  },
  {
   "cell_type": "markdown",
   "metadata": {},
   "source": [
    "**Kérdések:**\n",
    "\n",
    "  - Mi változott?\n",
    "  - Mi a helyzet a munka szórásával?\n",
    "  - Mi a helyzet a bérek prociklikusságával?\n",
    "  - Közelebb kerültünk a valós adatokhoz?\n",
    "  "
   ]
  }
 ],
 "metadata": {
  "kernelspec": {
   "name": "python388jvsc74a57bd03305ddab7cd3f1aa4b81dcb3ff4c1099c6598c24ee312ec23d2f3274ed1da6b1",
   "display_name": "Python 3.8.8 64-bit ('dolo': conda)"
  },
  "language_info": {
   "codemirror_mode": {
    "name": "ipython",
    "version": 3
   },
   "file_extension": ".py",
   "mimetype": "text/x-python",
   "name": "python",
   "nbconvert_exporter": "python",
   "pygments_lexer": "ipython3",
   "version": "3.8.8"
  }
 },
 "nbformat": 4,
 "nbformat_minor": 4
}