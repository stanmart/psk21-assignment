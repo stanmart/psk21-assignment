{
 "metadata": {
  "language_info": {
   "codemirror_mode": {
    "name": "ipython",
    "version": 3
   },
   "file_extension": ".py",
   "mimetype": "text/x-python",
   "name": "python",
   "nbconvert_exporter": "python",
   "pygments_lexer": "ipython3",
   "version": "3.8.8"
  },
  "orig_nbformat": 2,
  "kernelspec": {
   "name": "python388jvsc74a57bd03305ddab7cd3f1aa4b81dcb3ff4c1099c6598c24ee312ec23d2f3274ed1da6b1",
   "display_name": "Python 3.8.8 64-bit ('dolo': conda)"
  }
 },
 "nbformat": 4,
 "nbformat_minor": 2,
 "cells": [
  {
   "source": [
    "# PSK II. Makró blokk beadandó"
   ],
   "cell_type": "markdown",
   "metadata": {}
  },
  {
   "source": [
    "### Szabályok\n",
    "\n",
    "  - Lehet (de nem kötelező) maximum három fós csoportokban dolgozni\n",
    "  - A megoldásokat küldjétek el a martin.stancsics@gmail.com email címre a szakmai szabályzatban meghatározott határidőig"
   ],
   "cell_type": "markdown",
   "metadata": {}
  },
  {
   "source": [
    "### Instrukciók\n",
    "\n",
    "  - TODO"
   ],
   "cell_type": "markdown",
   "metadata": {}
  },
  {
   "cell_type": "code",
   "execution_count": 1,
   "metadata": {},
   "outputs": [],
   "source": [
    "import dolo"
   ]
  },
  {
   "source": [
    "## 1. feladat: Egy kalibrált RBC modell"
   ],
   "cell_type": "markdown",
   "metadata": {}
  },
  {
   "source": [
    "Választott ország: #############"
   ],
   "cell_type": "markdown",
   "metadata": {}
  },
  {
   "cell_type": "code",
   "execution_count": 2,
   "metadata": {},
   "outputs": [
    {
     "output_type": "stream",
     "name": "stdout",
     "text": [
      "\n        Model:\n        ------\n        name: \"None\"\n        type: \"dtcc\"\n        file: \"<string>\n\nEquations:\n----------\n\ntransition\n 1  : 0.0000 : a[t] = exp((rho)*(log(a[t-1])) + eps[t])\n 2  : 0.0000 : k[t] = (1 - (delta))*(k[t-1]) + i[t-1]\n\narbitrage\n 1  : \u001b[31m0.1462\u001b[0m : (-(1))/(c[t]) + ((beta)*(1 + r[t+1] - (delta)))*((1)/(c[t+1]))\n 2  : \u001b[31m5.2169\u001b[0m : -(w[t]) + ((phi)*(c[t]))/(1 - (l[t]))\n\ndefinitions\n 1  : y[t] = ((exp(a[t]))*((k[t])^(alpha)))*((l[t])^(1 - (alpha)))\n 2  : c[t] = y[t] - (i[t])\n 3  : r[t] = ((alpha)*(y[t]))/(k[t])\n 4  : w[t] = ((1 - (alpha))*(y[t]))/(l[t])\n\n\n"
     ]
    }
   ],
   "source": [
    "model_baseline = dolo.yaml_import(\"rbc_baseline.yaml\")\n",
    "print(model_baseline)"
   ]
  },
  {
   "source": [
    "### Steady state"
   ],
   "cell_type": "markdown",
   "metadata": {}
  },
  {
   "cell_type": "code",
   "execution_count": 3,
   "metadata": {},
   "outputs": [],
   "source": [
    "ss_baseline = dolo.algos.steady_state.find_steady_state(model_baseline)\n",
    "model_baseline.set_calibration(**ss_baseline.flat)"
   ]
  },
  {
   "source": [
    "Ellenőrizd, hogy valóban a steady-statet találtad-e meg"
   ],
   "cell_type": "markdown",
   "metadata": {}
  },
  {
   "cell_type": "code",
   "execution_count": 4,
   "metadata": {},
   "outputs": [
    {
     "output_type": "stream",
     "name": "stdout",
     "text": [
      "\n        Model:\n        ------\n        name: \"None\"\n        type: \"dtcc\"\n        file: \"<string>\n\nEquations:\n----------\n\ntransition\n 1  : 0.0000 : a[t] = exp((rho)*(log(a[t-1])) + eps[t])\n 2  : 0.0000 : k[t] = (1 - (delta))*(k[t-1]) + i[t-1]\n\narbitrage\n 1  : 0.0000 : (-(1))/(c[t]) + ((beta)*(1 + r[t+1] - (delta)))*((1)/(c[t+1]))\n 2  : 0.0000 : -(w[t]) + ((phi)*(c[t]))/(1 - (l[t]))\n\ndefinitions\n 1  : y[t] = ((exp(a[t]))*((k[t])^(alpha)))*((l[t])^(1 - (alpha)))\n 2  : c[t] = y[t] - (i[t])\n 3  : r[t] = ((alpha)*(y[t]))/(k[t])\n 4  : w[t] = ((1 - (alpha))*(y[t]))/(l[t])\n\n\n"
     ]
    }
   ],
   "source": [
    "print(model_baseline)"
   ]
  },
  {
   "cell_type": "code",
   "execution_count": 5,
   "metadata": {},
   "outputs": [
    {
     "output_type": "execute_result",
     "data": {
      "text/plain": [
       "{'beta': 0.94,\n",
       " 'phi': 4.0,\n",
       " 'delta': 0.06,\n",
       " 'alpha': 0.33,\n",
       " 'rho': 0.65,\n",
       " 'l': 0.16623609157181168,\n",
       " 'a': 0.9999999999999999,\n",
       " 'r': 0.12382978723404253,\n",
       " 'k': 3.193614388771363,\n",
       " 'i': 0.19161686332628192,\n",
       " 'c': 0.2492415987079727,\n",
       " 'w': 1.7768413993019831,\n",
       " 'name': 0.0,\n",
       " 'y': 1.1983775462701163,\n",
       " 'eps': 0}"
      ]
     },
     "metadata": {},
     "execution_count": 5
    }
   ],
   "source": [
    "model_baseline.get_calibration()"
   ]
  },
  {
   "source": [
    "### Szimuláció"
   ],
   "cell_type": "markdown",
   "metadata": {}
  },
  {
   "cell_type": "code",
   "execution_count": 6,
   "metadata": {},
   "outputs": [],
   "source": [
    "A modell megoldása:"
   ]
  },
  {
   "source": [
    "dr_baseline = dolo.approximate_controls(model_baseline)"
   ],
   "cell_type": "markdown",
   "metadata": {}
  },
  {
   "source": [
    "Szimulálj 1000 időszaknyi adatot"
   ],
   "cell_type": "markdown",
   "metadata": {}
  },
  {
   "cell_type": "code",
   "execution_count": 7,
   "metadata": {},
   "outputs": [
    {
     "output_type": "execute_result",
     "data": {
      "text/plain": [
       "V         a         c       eps         i         k         l         r  \\\n",
       "T                                                                         \n",
       "0  1.000000  1.006761  0.090114  0.191617  3.193614  0.166236  0.123830   \n",
       "1  1.094299  1.062601 -0.069685  0.337279  3.193614  0.182114  0.144651   \n",
       "2  0.988950  1.023814  0.040456  0.158351  3.339277  0.162001  0.116826   \n",
       "3  1.033792  1.040528 -0.127744  0.232288  3.297271  0.170236  0.127387   \n",
       "4  0.899297  0.991340 -0.027555  0.020705  3.331723  0.147029  0.100241   \n",
       "\n",
       "V         w         y  \n",
       "T                      \n",
       "0  4.829956  1.198378  \n",
       "1  5.150187  1.399881  \n",
       "2  4.889167  1.182165  \n",
       "3  5.009437  1.272816  \n",
       "4  4.611821  1.012045  "
      ],
      "text/html": "<div>\n<style scoped>\n    .dataframe tbody tr th:only-of-type {\n        vertical-align: middle;\n    }\n\n    .dataframe tbody tr th {\n        vertical-align: top;\n    }\n\n    .dataframe thead th {\n        text-align: right;\n    }\n</style>\n<table border=\"1\" class=\"dataframe\">\n  <thead>\n    <tr style=\"text-align: right;\">\n      <th>V</th>\n      <th>a</th>\n      <th>c</th>\n      <th>eps</th>\n      <th>i</th>\n      <th>k</th>\n      <th>l</th>\n      <th>r</th>\n      <th>w</th>\n      <th>y</th>\n    </tr>\n    <tr>\n      <th>T</th>\n      <th></th>\n      <th></th>\n      <th></th>\n      <th></th>\n      <th></th>\n      <th></th>\n      <th></th>\n      <th></th>\n      <th></th>\n    </tr>\n  </thead>\n  <tbody>\n    <tr>\n      <th>0</th>\n      <td>1.000000</td>\n      <td>1.006761</td>\n      <td>0.090114</td>\n      <td>0.191617</td>\n      <td>3.193614</td>\n      <td>0.166236</td>\n      <td>0.123830</td>\n      <td>4.829956</td>\n      <td>1.198378</td>\n    </tr>\n    <tr>\n      <th>1</th>\n      <td>1.094299</td>\n      <td>1.062601</td>\n      <td>-0.069685</td>\n      <td>0.337279</td>\n      <td>3.193614</td>\n      <td>0.182114</td>\n      <td>0.144651</td>\n      <td>5.150187</td>\n      <td>1.399881</td>\n    </tr>\n    <tr>\n      <th>2</th>\n      <td>0.988950</td>\n      <td>1.023814</td>\n      <td>0.040456</td>\n      <td>0.158351</td>\n      <td>3.339277</td>\n      <td>0.162001</td>\n      <td>0.116826</td>\n      <td>4.889167</td>\n      <td>1.182165</td>\n    </tr>\n    <tr>\n      <th>3</th>\n      <td>1.033792</td>\n      <td>1.040528</td>\n      <td>-0.127744</td>\n      <td>0.232288</td>\n      <td>3.297271</td>\n      <td>0.170236</td>\n      <td>0.127387</td>\n      <td>5.009437</td>\n      <td>1.272816</td>\n    </tr>\n    <tr>\n      <th>4</th>\n      <td>0.899297</td>\n      <td>0.991340</td>\n      <td>-0.027555</td>\n      <td>0.020705</td>\n      <td>3.331723</td>\n      <td>0.147029</td>\n      <td>0.100241</td>\n      <td>4.611821</td>\n      <td>1.012045</td>\n    </tr>\n  </tbody>\n</table>\n</div>"
     },
     "metadata": {},
     "execution_count": 7
    }
   ],
   "source": [
    "sim_baseline = dolo.simulate(model_baseline, dr_baseline, N=1, T=1000).squeeze()\n",
    "sim_df_baseline = sim_baseline \\\n",
    "    .to_dataframe(name=\"value\") \\\n",
    "    .drop(columns=\"N\") \\\n",
    "    .reset_index() \\\n",
    "    .pivot(index=\"T\", columns=\"V\") \\\n",
    "    [\"value\"]\n",
    "sim_df_baseline.head()"
   ]
  },
  {
   "source": [
    "### Kiértékelés"
   ],
   "cell_type": "markdown",
   "metadata": {}
  },
  {
   "source": [
    "Átlaghoz viszonyított szórások:"
   ],
   "cell_type": "markdown",
   "metadata": {}
  },
  {
   "cell_type": "code",
   "execution_count": 8,
   "metadata": {},
   "outputs": [
    {
     "output_type": "execute_result",
     "data": {
      "text/plain": [
       "V\n",
       "a       0.136355\n",
       "c       0.163125\n",
       "eps    71.619914\n",
       "i       0.975681\n",
       "k       0.207711\n",
       "l       0.126937\n",
       "r       0.233809\n",
       "w       0.158989\n",
       "y       0.256930\n",
       "dtype: float64"
      ]
     },
     "metadata": {},
     "execution_count": 8
    }
   ],
   "source": [
    "sim_df_baseline.std() / sim_df_baseline.mean()"
   ]
  },
  {
   "source": [
    "Korrelációk:"
   ],
   "cell_type": "markdown",
   "metadata": {}
  },
  {
   "cell_type": "code",
   "execution_count": 9,
   "metadata": {},
   "outputs": [
    {
     "output_type": "execute_result",
     "data": {
      "text/plain": [
       "V           a         c       eps         i         k         l         r  \\\n",
       "V                                                                           \n",
       "a    1.000000  0.792663 -0.009862  0.933948  0.421304  0.876850  0.671702   \n",
       "c    0.792663  1.000000 -0.008597  0.544833  0.829964  0.432107  0.146603   \n",
       "eps -0.009862 -0.008597  1.000000 -0.008408 -0.006192 -0.007568 -0.009466   \n",
       "i    0.933948  0.544833 -0.008408  1.000000  0.069336  0.990761  0.884108   \n",
       "k    0.421304  0.829964 -0.006192  0.069336  1.000000 -0.066595 -0.368569   \n",
       "l    0.876850  0.432107 -0.007568  0.990761 -0.066595  1.000000  0.934378   \n",
       "r    0.671702  0.146603 -0.009466  0.884108 -0.368569  0.934378  1.000000   \n",
       "w    0.850024  0.981336 -0.009580  0.608284  0.829061  0.495693  0.200512   \n",
       "y    0.986635  0.862672 -0.009662  0.894118  0.485069  0.828343  0.611540   \n",
       "\n",
       "V           w         y  \n",
       "V                        \n",
       "a    0.850024  0.986635  \n",
       "c    0.981336  0.862672  \n",
       "eps -0.009580 -0.009662  \n",
       "i    0.608284  0.894118  \n",
       "k    0.829061  0.485069  \n",
       "l    0.495693  0.828343  \n",
       "r    0.200512  0.611540  \n",
       "w    1.000000  0.890975  \n",
       "y    0.890975  1.000000  "
      ],
      "text/html": "<div>\n<style scoped>\n    .dataframe tbody tr th:only-of-type {\n        vertical-align: middle;\n    }\n\n    .dataframe tbody tr th {\n        vertical-align: top;\n    }\n\n    .dataframe thead th {\n        text-align: right;\n    }\n</style>\n<table border=\"1\" class=\"dataframe\">\n  <thead>\n    <tr style=\"text-align: right;\">\n      <th>V</th>\n      <th>a</th>\n      <th>c</th>\n      <th>eps</th>\n      <th>i</th>\n      <th>k</th>\n      <th>l</th>\n      <th>r</th>\n      <th>w</th>\n      <th>y</th>\n    </tr>\n    <tr>\n      <th>V</th>\n      <th></th>\n      <th></th>\n      <th></th>\n      <th></th>\n      <th></th>\n      <th></th>\n      <th></th>\n      <th></th>\n      <th></th>\n    </tr>\n  </thead>\n  <tbody>\n    <tr>\n      <th>a</th>\n      <td>1.000000</td>\n      <td>0.792663</td>\n      <td>-0.009862</td>\n      <td>0.933948</td>\n      <td>0.421304</td>\n      <td>0.876850</td>\n      <td>0.671702</td>\n      <td>0.850024</td>\n      <td>0.986635</td>\n    </tr>\n    <tr>\n      <th>c</th>\n      <td>0.792663</td>\n      <td>1.000000</td>\n      <td>-0.008597</td>\n      <td>0.544833</td>\n      <td>0.829964</td>\n      <td>0.432107</td>\n      <td>0.146603</td>\n      <td>0.981336</td>\n      <td>0.862672</td>\n    </tr>\n    <tr>\n      <th>eps</th>\n      <td>-0.009862</td>\n      <td>-0.008597</td>\n      <td>1.000000</td>\n      <td>-0.008408</td>\n      <td>-0.006192</td>\n      <td>-0.007568</td>\n      <td>-0.009466</td>\n      <td>-0.009580</td>\n      <td>-0.009662</td>\n    </tr>\n    <tr>\n      <th>i</th>\n      <td>0.933948</td>\n      <td>0.544833</td>\n      <td>-0.008408</td>\n      <td>1.000000</td>\n      <td>0.069336</td>\n      <td>0.990761</td>\n      <td>0.884108</td>\n      <td>0.608284</td>\n      <td>0.894118</td>\n    </tr>\n    <tr>\n      <th>k</th>\n      <td>0.421304</td>\n      <td>0.829964</td>\n      <td>-0.006192</td>\n      <td>0.069336</td>\n      <td>1.000000</td>\n      <td>-0.066595</td>\n      <td>-0.368569</td>\n      <td>0.829061</td>\n      <td>0.485069</td>\n    </tr>\n    <tr>\n      <th>l</th>\n      <td>0.876850</td>\n      <td>0.432107</td>\n      <td>-0.007568</td>\n      <td>0.990761</td>\n      <td>-0.066595</td>\n      <td>1.000000</td>\n      <td>0.934378</td>\n      <td>0.495693</td>\n      <td>0.828343</td>\n    </tr>\n    <tr>\n      <th>r</th>\n      <td>0.671702</td>\n      <td>0.146603</td>\n      <td>-0.009466</td>\n      <td>0.884108</td>\n      <td>-0.368569</td>\n      <td>0.934378</td>\n      <td>1.000000</td>\n      <td>0.200512</td>\n      <td>0.611540</td>\n    </tr>\n    <tr>\n      <th>w</th>\n      <td>0.850024</td>\n      <td>0.981336</td>\n      <td>-0.009580</td>\n      <td>0.608284</td>\n      <td>0.829061</td>\n      <td>0.495693</td>\n      <td>0.200512</td>\n      <td>1.000000</td>\n      <td>0.890975</td>\n    </tr>\n    <tr>\n      <th>y</th>\n      <td>0.986635</td>\n      <td>0.862672</td>\n      <td>-0.009662</td>\n      <td>0.894118</td>\n      <td>0.485069</td>\n      <td>0.828343</td>\n      <td>0.611540</td>\n      <td>0.890975</td>\n      <td>1.000000</td>\n    </tr>\n  </tbody>\n</table>\n</div>"
     },
     "metadata": {},
     "execution_count": 9
    }
   ],
   "source": [
    "sim_df_baseline.corr()"
   ]
  },
  {
   "source": [
    "**Kérdések:**\n",
    "\n",
    "  - Mennyire adja vissza jól a modell a megfigyelt korrelációkat?\n",
    "  - Mi a helyzet a munka szórásával?\n",
    "  - Mi a helyzet a munka prociklikusságával (munka-GDP korreláció)?\n",
    "  - Mi lehet ez utóbbinak az oka?"
   ],
   "cell_type": "markdown",
   "metadata": {}
  },
  {
   "source": [
    "## 2. feladat: Oszthatatlan munka"
   ],
   "cell_type": "markdown",
   "metadata": {}
  },
  {
   "cell_type": "code",
   "execution_count": null,
   "metadata": {},
   "outputs": [],
   "source": []
  }
 ]
}